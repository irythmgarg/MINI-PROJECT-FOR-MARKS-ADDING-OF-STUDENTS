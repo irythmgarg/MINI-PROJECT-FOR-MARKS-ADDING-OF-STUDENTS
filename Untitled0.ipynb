{
  "nbformat": 4,
  "nbformat_minor": 0,
  "metadata": {
    "colab": {
      "provenance": [],
      "authorship_tag": "ABX9TyPgldqTmo4waSy8zXOSNuSH",
      "include_colab_link": true
    },
    "kernelspec": {
      "name": "python3",
      "display_name": "Python 3"
    },
    "language_info": {
      "name": "python"
    }
  },
  "cells": [
    {
      "cell_type": "markdown",
      "metadata": {
        "id": "view-in-github",
        "colab_type": "text"
      },
      "source": [
        "<a href=\"https://colab.research.google.com/github/irythmgarg/MINI-PROJECT-FOR-MARKS-ADDING-OF-STUDENTS/blob/main/Untitled0.ipynb\" target=\"_parent\"><img src=\"https://colab.research.google.com/assets/colab-badge.svg\" alt=\"Open In Colab\"/></a>"
      ]
    },
    {
      "cell_type": "markdown",
      "source": [
        "MARKS ADDING OF **STUDENTS**\n",
        "\n",
        "---\n",
        "\n",
        "\n",
        "\n",
        "---\n",
        "\n"
      ],
      "metadata": {
        "id": "E12yoW3vhWN7"
      }
    },
    {
      "cell_type": "code",
      "execution_count": 4,
      "metadata": {
        "colab": {
          "base_uri": "https://localhost:8080/"
        },
        "id": "TTRndXLhfc3q",
        "outputId": "67487091-efb4-4d78-f1f7-5675e800ffed"
      },
      "outputs": [
        {
          "output_type": "execute_result",
          "data": {
            "text/plain": [
              "{102003542: 2, 102003543: 2, 102003544: 2, 102003545: 1, 102003546: 3}"
            ]
          },
          "metadata": {},
          "execution_count": 4
        }
      ],
      "source": [
        "# roll number and marks of stduents\n",
        "l=[(102003542,1),(102003543,1),(102003543,1),(102003544,1),(102003542,1),(102003544,1),(102003545,1),(102003546,1),(102003546,1),(102003546,1)];\n",
        "\n",
        "res={};\n",
        "for roll_no,marks in l :\n",
        "  if roll_no in res:\n",
        "     res[roll_no]+=marks;\n",
        "  else:\n",
        "     res[roll_no]=marks;\n",
        "res"
      ]
    }
  ]
}